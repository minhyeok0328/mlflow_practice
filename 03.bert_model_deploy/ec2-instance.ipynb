{
 "cells": [
  {
   "cell_type": "markdown",
   "metadata": {},
   "source": [
    "## EC2 관리"
   ]
  },
  {
   "cell_type": "markdown",
   "metadata": {},
   "source": [
    "keypair 생성 cli\n",
    "https://docs.aws.amazon.com/cli/latest/reference/ec2/create-key-pair.html\n",
    "\n",
    "aws ec2 create-key-pair --key-name fastapi-backend-keypair --query 'KeyMaterial' --output te\n",
    "xt > fastapi-backend-keypair.pem"
   ]
  },
  {
   "cell_type": "code",
   "execution_count": 2,
   "metadata": {},
   "outputs": [],
   "source": [
    "import boto3\n",
    "\n",
    "# s3 = boto3.client('s3')\n",
    "ec2 = boto3.client('ec2', region_name='ap-northeast-2')\n",
    "\n",
    "instance_name = 'FastAPI-Sentiment-BERT-Backend' # git repo\n",
    "\n",
    "# https://boto3.amazonaws.com/v1/documentation/api/latest/reference/services/ec2/client/run_instances.html\n",
    "#  \n",
    "response = ec2.run_instances(\n",
    "    ImageId='ami-00a08b445dc0ab8c1',\n",
    "    MinCount=1,\n",
    "    MaxCount=1,\n",
    "    InstanceType='t2.micro',\n",
    "    KeyName='fastapi-backend-keypair',\n",
    "    BlockDeviceMappings=[             # 블록 디바이스 설정 (스토리지)\n",
    "        {\n",
    "            \"DeviceName\": \"/dev/xvda\", # 기본 디바이스 이름\n",
    "            'Ebs':{\n",
    "                'DeleteOnTermination': True, # 인스턴스 종료 시 볼륨 삭제 여부\n",
    "                'VolumeSize': 120            # 루트 볼륨 크기 (GB)\n",
    "            }\n",
    "        }\n",
    "    ]   \n",
    ")"
   ]
  },
  {
   "cell_type": "code",
   "execution_count": null,
   "metadata": {},
   "outputs": [],
   "source": [
    "instance_id = response['Instances'][0]['InstanceId']\n",
    "\n",
    "ec2.create_tags(\n",
    "    Resources=[instance_id],\n",
    "    Tags=[{\"Key\":\"Name\", \"Value\":instance_name}]\n",
    ")"
   ]
  },
  {
   "cell_type": "code",
   "execution_count": 18,
   "metadata": {},
   "outputs": [
    {
     "data": {
      "text/plain": [
       "'sg-0d4111dc4486ae33a'"
      ]
     },
     "execution_count": 18,
     "metadata": {},
     "output_type": "execute_result"
    }
   ],
   "source": [
    "# 보안그룹설정\n",
    "group_name = 'fastapi-backend-security-group'\n",
    "\n",
    "response = ec2.describe_security_groups()\n",
    "group_id = [x['GroupId'] for x in response['SecurityGroups'] if x['GroupName']== group_name ]\n",
    "\n",
    "if group_id == []:\n",
    "    response = ec2.create_security_group(\n",
    "        Description='fastapi backend security group for bert model deploy', \n",
    "        GroupName=group_name,\n",
    "    )\n",
    "    group_id = response['GroupId']\n",
    "else:\n",
    "    group_id = group_id[0]\n",
    "\n",
    "group_id"
   ]
  },
  {
   "cell_type": "code",
   "execution_count": 20,
   "metadata": {},
   "outputs": [],
   "source": [
    "# 인바운드/아웃바운드 => 열어준다음에\n",
    "# EC2에 도커 컨테이너 얹으면 끝.\n",
    "\n",
    "def security_group_add_inbound(group_id, protocol, port, cidr):\n",
    "    reponse = ec2.authorize_security_group_ingress(\n",
    "        GroupId=group_id,\n",
    "        IpPermissions=[\n",
    "            {\n",
    "                'IpProtocol': protocol,\n",
    "                'FromPort': port,\n",
    "                'ToPort': port,\n",
    "                'IpRanges': [{'CidrIp': cidr}]\n",
    "            }\n",
    "        ]   \n",
    "    )\n",
    "\n",
    "security_group_add_inbound(group_id, 'tcp', 22, '0.0.0.0/0') # SSH # 생산성 # 스타벅스\n",
    "security_group_add_inbound(group_id, 'tcp', 80, '0.0.0.0/0') # 일반 호스트 서버 접속\n",
    "\n",
    "security_group_add_inbound(group_id, 'tcp', 8501, '0.0.0.0/0') # Streamlit\n",
    "security_group_add_inbound(group_id, 'tcp', 8502, '0.0.0.0/0')"
   ]
  },
  {
   "cell_type": "code",
   "execution_count": 23,
   "metadata": {},
   "outputs": [
    {
     "data": {
      "text/plain": [
       "{'ResponseMetadata': {'RequestId': 'c98562d6-c90e-46b4-bcff-f2aa3dbea323',\n",
       "  'HTTPStatusCode': 200,\n",
       "  'HTTPHeaders': {'x-amzn-requestid': 'c98562d6-c90e-46b4-bcff-f2aa3dbea323',\n",
       "   'cache-control': 'no-cache, no-store',\n",
       "   'strict-transport-security': 'max-age=31536000; includeSubDomains',\n",
       "   'content-type': 'text/xml;charset=UTF-8',\n",
       "   'content-length': '235',\n",
       "   'date': 'Tue, 27 Aug 2024 05:22:42 GMT',\n",
       "   'server': 'AmazonEC2'},\n",
       "  'RetryAttempts': 0}}"
      ]
     },
     "execution_count": 23,
     "metadata": {},
     "output_type": "execute_result"
    }
   ],
   "source": [
    "# 방금 만든 Security Group을 EC2에 적용합니다.\n",
    "\n",
    "ec2.modify_instance_attribute(\n",
    "    InstanceId=instance_id,\n",
    "    Groups=[group_id]\n",
    ")"
   ]
  },
  {
   "cell_type": "code",
   "execution_count": 22,
   "metadata": {},
   "outputs": [
    {
     "data": {
      "text/plain": [
       "('i-0950439ed28e9dc3d', 'sg-0d4111dc4486ae33a')"
      ]
     },
     "execution_count": 22,
     "metadata": {},
     "output_type": "execute_result"
    }
   ],
   "source": [
    "instance_id, group_id"
   ]
  },
  {
   "cell_type": "code",
   "execution_count": null,
   "metadata": {},
   "outputs": [],
   "source": [
    "# EC2에 접속을 한 다음 도커를 pull 받자!\n",
    "\n",
    "# 로컬에서 ssh 연결 세팅\n"
   ]
  }
 ],
 "metadata": {
  "kernelspec": {
   "display_name": ".venv",
   "language": "python",
   "name": "python3"
  },
  "language_info": {
   "codemirror_mode": {
    "name": "ipython",
    "version": 3
   },
   "file_extension": ".py",
   "mimetype": "text/x-python",
   "name": "python",
   "nbconvert_exporter": "python",
   "pygments_lexer": "ipython3",
   "version": "3.10.13"
  }
 },
 "nbformat": 4,
 "nbformat_minor": 2
}
